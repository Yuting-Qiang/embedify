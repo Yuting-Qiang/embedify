{
 "cells": [
  {
   "cell_type": "code",
   "execution_count": 3,
   "metadata": {},
   "outputs": [],
   "source": [
    "from sklearn.neighbors import NearestNeighbors\n",
    "from sklearn.metrics.pairwise import cosine_similarity\n",
    "import numpy as np\n",
    "import pickle as pkl"
   ]
  },
  {
   "cell_type": "markdown",
   "metadata": {},
   "source": [
    "##### 加载预存数据并构建KNN分类器"
   ]
  },
  {
   "cell_type": "code",
   "execution_count": 2,
   "metadata": {},
   "outputs": [
    {
     "ename": "NameError",
     "evalue": "name 'np' is not defined",
     "output_type": "error",
     "traceback": [
      "\u001b[0;31m---------------------------------------------------------------------------\u001b[0m",
      "\u001b[0;31mNameError\u001b[0m                                 Traceback (most recent call last)",
      "Cell \u001b[0;32mIn[2], line 1\u001b[0m\n\u001b[0;32m----> 1\u001b[0m train_previous_increase_ratio \u001b[38;5;241m=\u001b[39m \u001b[43mnp\u001b[49m\u001b[38;5;241m.\u001b[39mload(\u001b[38;5;124m\"\u001b[39m\u001b[38;5;124m../data/interim/stock500_2023_2024_previous_increase_ratio.npz\u001b[39m\u001b[38;5;124m\"\u001b[39m)[\u001b[38;5;124m\"\u001b[39m\u001b[38;5;124mprevious_increase_ratio\u001b[39m\u001b[38;5;124m\"\u001b[39m]\n\u001b[1;32m      2\u001b[0m train_post_increase_ratio \u001b[38;5;241m=\u001b[39m np\u001b[38;5;241m.\u001b[39mload(\u001b[38;5;124m\"\u001b[39m\u001b[38;5;124m../data/interim/stock500_2023_2024_post_increase_ratio.npz\u001b[39m\u001b[38;5;124m\"\u001b[39m)[\u001b[38;5;124m\"\u001b[39m\u001b[38;5;124mpost_increase_ratio\u001b[39m\u001b[38;5;124m\"\u001b[39m]\n\u001b[1;32m      3\u001b[0m \u001b[38;5;66;03m# 构建最近邻模型\u001b[39;00m\n",
      "\u001b[0;31mNameError\u001b[0m: name 'np' is not defined"
     ]
    }
   ],
   "source": [
    "train_previous_increase_ratio = np.load(\"../data/interim/stock500_2023_2024_previous_increase_ratio.npz\")[\"previous_increase_ratio\"]\n",
    "train_post_increase_ratio = np.load(\"../data/interim/stock500_2023_2024_post_increase_ratio.npz\")[\"post_increase_ratio\"]\n",
    "# 构建最近邻模型\n",
    "nbrs = NearestNeighbors(n_neighbors=50, metric='cosine')\n",
    "nbrs.fit(train_previous_increase_ratio)\n",
    "\n",
    "# 查询最近邻\n",
    "distances, nearest_indices = nbrs.kneighbors(train_previous_increase_ratio)\n",
    "print(\"nearest neighbors computed\")"
   ]
  },
  {
   "cell_type": "markdown",
   "metadata": {},
   "source": [
    "### 根据增长率的余弦相似度构造正负样本"
   ]
  },
  {
   "cell_type": "code",
   "execution_count": 15,
   "metadata": {},
   "outputs": [
    {
     "name": "stdout",
     "output_type": "stream",
     "text": [
      "0,1000,2000,3000,4000,5000,6000,7000,8000,9000,10000,11000,12000,13000,14000,15000,16000,17000,18000,19000,20000,21000,22000,23000,24000,25000,26000,27000,28000,29000,30000,31000,32000,33000,34000,35000,36000,37000,38000,39000,40000,41000,42000,43000,44000,45000,46000,47000,48000,49000,50000,51000,52000,53000,54000,55000,56000,57000,58000,59000,60000,61000,62000,63000,64000,65000,66000,67000,68000,69000,70000,71000,72000,73000,74000,75000,76000,77000,78000,79000,80000,81000,82000,83000,84000,85000,86000,87000,88000,89000,90000,91000,92000,93000,94000,95000,96000,97000,98000,99000,100000,101000,102000,103000,104000,105000,106000,107000,108000,109000,110000,111000,112000,113000,114000,115000,116000,117000,118000,119000,120000,121000,122000,123000,124000,125000,126000,127000,128000,129000,130000,131000,132000,133000,134000,135000,136000,137000,138000,139000,140000,141000,142000,143000,144000,145000,146000,147000,148000,149000,150000,151000,152000,153000,154000,155000,156000,157000,158000,159000,160000,161000,162000,163000,164000,165000,166000,167000,168000,169000,170000,171000,172000,173000,174000,175000,176000,177000,178000,179000,180000,181000,182000,183000,184000,185000,186000,187000,188000,189000,190000,191000,192000,193000,194000,195000,196000,197000,198000,199000,200000,201000,202000,203000,204000,205000,206000,207000,208000,209000,210000,211000,212000,213000,214000,215000,216000,217000,218000,219000,220000,221000,222000,223000,224000,225000,226000,227000,228000,229000,230000,231000,232000,233000,234000,235000,236000,237000,238000,239000,240000,241000,242000,243000,244000,245000,246000,247000,248000,249000,250000,251000,252000,253000,254000,255000,256000,257000,258000,259000,260000,261000,"
     ]
    }
   ],
   "source": [
    "sampled_candidates = []\n",
    "positive_sample_count = 5\n",
    "total_sample_count = 20\n",
    "for i, indices in enumerate(nearest_indices):\n",
    "    positive_candidate_index = np.random.choice(indices, size=positive_sample_count+1, replace=False)[1:]\n",
    "    negative_candidate_index = np.random.choice(np.arange(train_previous_increase_ratio.shape[0]), size=total_sample_count-positive_sample_count, replace=False)\n",
    "    candidate_index = np.concatenate([positive_candidate_index, negative_candidate_index])\n",
    "    candidate_distance = cosine_similarity((train_post_increase_ratio[i]-1).reshape((1, -1)), train_post_increase_ratio[candidate_index]-1).flatten()\n",
    "    sampled_candidates.append((i, candidate_index, candidate_distance))\n",
    "    if i % 1000 == 0:\n",
    "        print(i, end=\",\")\n",
    "pkl.dump(sampled_candidates, open(\"../data/processed/stock500_2023_2024_sampled_candidates_v2.pkl\", 'wb'))"
   ]
  },
  {
   "cell_type": "markdown",
   "metadata": {},
   "source": [
    "##### 验证数据是否正确"
   ]
  },
  {
   "cell_type": "code",
   "execution_count": 1,
   "metadata": {},
   "outputs": [
    {
     "ename": "NameError",
     "evalue": "name 'train_previous_increase_ratio' is not defined",
     "output_type": "error",
     "traceback": [
      "\u001b[0;31m---------------------------------------------------------------------------\u001b[0m",
      "\u001b[0;31mNameError\u001b[0m                                 Traceback (most recent call last)",
      "Cell \u001b[0;32mIn[1], line 1\u001b[0m\n\u001b[0;32m----> 1\u001b[0m \u001b[38;5;28mprint\u001b[39m(\u001b[38;5;124m\"\u001b[39m\u001b[38;5;124mShape of train_previous_increase_ratio: \u001b[39m\u001b[38;5;124m\"\u001b[39m, \u001b[43mtrain_previous_increase_ratio\u001b[49m\u001b[38;5;241m.\u001b[39mshape)\n\u001b[1;32m      2\u001b[0m \u001b[38;5;28mprint\u001b[39m(\u001b[38;5;124m\"\u001b[39m\u001b[38;5;124mShape of train_post_increase_ratio: \u001b[39m\u001b[38;5;124m\"\u001b[39m, train_post_increase_ratio\u001b[38;5;241m.\u001b[39mshape)\n\u001b[1;32m      3\u001b[0m \u001b[38;5;66;03m# 随机选择样本中的一个\u001b[39;00m\n",
      "\u001b[0;31mNameError\u001b[0m: name 'train_previous_increase_ratio' is not defined"
     ]
    }
   ],
   "source": [
    "print(\"Shape of train_previous_increase_ratio: \", train_previous_increase_ratio.shape)\n",
    "print(\"Shape of train_post_increase_ratio: \", train_post_increase_ratio.shape)\n",
    "# 随机选择样本中的一个\n",
    "selected_sample_index = np.random.choice(np.arange(len(sampled_candidates)), 1, replace=False)[0]\n",
    "idx, candidate_idxs, candidate_distances = sampled_candidates[selected_sample_index]\n",
    "for i in range(len(candidate_idxs)):\n",
    "    idx2 = candidate_idxs[i]\n",
    "    distance = candidate_distances[i]\n",
    "    distance2 = cosine_similarity(train_post_increase_ratio[idx].reshape(1, -1)-1, train_post_increase_ratio[idx2].reshape(1, -1)-1)[0][0]\n",
    "    assert abs(distance-distance2) < 1-6"
   ]
  },
  {
   "cell_type": "code",
   "execution_count": 5,
   "metadata": {},
   "outputs": [],
   "source": [
    "sampled_candidates = pkl.load(\n",
    "    open(\"../data/processed/stock500_2023_2024_sampled_candidates_v2.pkl\", \"rb\")\n",
    ")\n",
    "train_previous_increase_ratio = np.load(\"../data/interim/stock500_2023_2024_previous_increase_ratio.npz\")[\"previous_increase_ratio\"]\n",
    "train_post_increase_ratio = np.load(\"../data/interim/stock500_2023_2024_post_increase_ratio.npz\")[\"post_increase_ratio\"]\n",
    "valid_train_samples = (np.min(train_previous_increase_ratio, axis=1) > 0) & (np.min(train_post_increase_ratio, axis=1) > 0)\n",
    "sampled_candidates_clean = []\n",
    "for idx, candidate_idxs, candidate_distances in sampled_candidates:\n",
    "    if valid_train_samples[idx]:\n",
    "        sampled_candidates_clean.append((idx, candidate_idxs, candidate_distances))\n",
    "pkl.dump(sampled_candidates_clean, open(\"../data/processed/stock500_2023_2024_sampled_candidates_v2_clean.pkl\", 'wb'))"
   ]
  },
  {
   "cell_type": "code",
   "execution_count": null,
   "metadata": {},
   "outputs": [],
   "source": []
  }
 ],
 "metadata": {
  "kernelspec": {
   "display_name": "vecrepr",
   "language": "python",
   "name": "python3"
  },
  "language_info": {
   "codemirror_mode": {
    "name": "ipython",
    "version": 3
   },
   "file_extension": ".py",
   "mimetype": "text/x-python",
   "name": "python",
   "nbconvert_exporter": "python",
   "pygments_lexer": "ipython3",
   "version": "3.10.16"
  }
 },
 "nbformat": 4,
 "nbformat_minor": 2
}
