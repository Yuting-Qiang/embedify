{
 "cells": [
  {
   "cell_type": "code",
   "execution_count": 1,
   "metadata": {},
   "outputs": [
    {
     "name": "stderr",
     "output_type": "stream",
     "text": [
      "\u001b[32m2025-05-10 22:15:31.970\u001b[0m | \u001b[1mINFO    \u001b[0m | \u001b[36mvectorrepr.config\u001b[0m:\u001b[36m<module>\u001b[0m:\u001b[36m11\u001b[0m - \u001b[1mPROJ_ROOT path is: /Users/ytqiang/workspace/vectorrepr\u001b[0m\n"
     ]
    }
   ],
   "source": [
    "import numpy as np\n",
    "from time import time\n",
    "from torch.utils.data import DataLoader \n",
    "\n",
    "from data_utils import prepare_formated_data\n",
    "from vectorrepr.datasets.timeseries import TimeSeriesDataset\n"
   ]
  },
  {
   "cell_type": "markdown",
   "metadata": {},
   "source": [
    "##### 准备数据文件"
   ]
  },
  {
   "cell_type": "code",
   "execution_count": 2,
   "metadata": {},
   "outputs": [
    {
     "name": "stdout",
     "output_type": "stream",
     "text": [
      "\u001b[32m2025-05-10 22:16:48.530\u001b[0m | \u001b[1mINFO    \u001b[0m | \u001b[36mdata_utils\u001b[0m:\u001b[36mprepare_formated_data\u001b[0m:\u001b[36m24\u001b[0m - \u001b[1mData prepared: Data shape: (278662, 9)\u001b[0m\n",
      "\u001b[32m2025-05-10 22:18:04.278\u001b[0m | \u001b[1mINFO    \u001b[0m | \u001b[36mdata_utils\u001b[0m:\u001b[36mprepare_formated_data\u001b[0m:\u001b[36m24\u001b[0m - \u001b[1mData prepared: Data shape: (40743, 9)\u001b[0m\n"
     ]
    }
   ],
   "source": [
    "df = prepare_formated_data(start_date=\"2023-01-01\", end_date=\"2024-12-31\", stock_datapath=\"../data/external/stock.parquet.gz\")\n",
    "df.to_parquet(\"../data/processed/stock500_2023_2024_ts.parquet\")\n",
    "df = prepare_formated_data(start_date=\"2025-01-01\", end_date=\"2025-04-30\", stock_datapath=\"../data/external/stock.parquet.gz\")\n",
    "df.to_parquet(\"../data/processed/stock500_20250101_20250430_ts.parquet\")"
   ]
  },
  {
   "cell_type": "markdown",
   "metadata": {},
   "source": [
    "##### 持久化中间数据，方便后面使用"
   ]
  },
  {
   "cell_type": "code",
   "execution_count": 3,
   "metadata": {},
   "outputs": [],
   "source": [
    "def prepare_interim_data(dataset: TimeSeriesDataset):\n",
    "\n",
    "    previous_increase_ratio_list = []\n",
    "    post_increase_ratio_list = []\n",
    "    samples = []\n",
    "    labels = []\n",
    "\n",
    "    dataloader = DataLoader(dataset, batch_size=100, shuffle=False, num_workers=4)\n",
    "    for i, (sample, label) in enumerate(dataloader):\n",
    "        previous_increase_ratio_list.append(sample[:, :, 3]/sample[:, 0, 3:4])\n",
    "        post_increase_ratio_list.append(label[:, :, 1] / sample[:, -1, 3:4])\n",
    "        samples.append(sample)\n",
    "        labels.append(label)\n",
    "        if i % 100 == 0:\n",
    "            print(i)\n",
    "    samples = np.concatenate(samples, axis=0)\n",
    "    labels = np.concatenate(labels, axis=0)\n",
    "    previous_increase_ratio = np.concatenate(previous_increase_ratio_list, axis=0)\n",
    "    post_increase_ratio = np.concatenate(post_increase_ratio_list, axis=0)\n",
    "\n",
    "    return previous_increase_ratio, post_increase_ratio, samples, labels"
   ]
  },
  {
   "cell_type": "code",
   "execution_count": 5,
   "metadata": {},
   "outputs": [
    {
     "name": "stderr",
     "output_type": "stream",
     "text": [
      "2025-05-10 23:06:17.924 | INFO     | vectorrepr.config:<module>:11 - PROJ_ROOT path is: /Users/ytqiang/workspace/vectorrepr\n",
      "2025-05-10 23:06:20.670 | INFO     | vectorrepr.config:<module>:11 - PROJ_ROOT path is: /Users/ytqiang/workspace/vectorrepr\n",
      "2025-05-10 23:06:23.258 | INFO     | vectorrepr.config:<module>:11 - PROJ_ROOT path is: /Users/ytqiang/workspace/vectorrepr\n",
      "2025-05-10 23:06:26.061 | INFO     | vectorrepr.config:<module>:11 - PROJ_ROOT path is: /Users/ytqiang/workspace/vectorrepr\n"
     ]
    },
    {
     "name": "stdout",
     "output_type": "stream",
     "text": [
      "0\n",
      "100\n",
      "200\n",
      "test data prepared\n"
     ]
    }
   ],
   "source": [
    "# train_dataset = TimeSeriesDataset(\n",
    "#     \"../data/processed/stock500_2023_2024_ts.parquet\",\n",
    "#     time_idx=\"DateIdx\",\n",
    "#     group_ids=\"Ticker\",\n",
    "#     feature_columns=[\"Open\", \"High\", \"Low\", \"Close\", \"Volume\", \"Adj Close\"],\n",
    "#     na_handling=-1,\n",
    "#     input_steps=30,\n",
    "#     predict_steps=5,\n",
    "# )\n",
    "# previous_increase_ratio, post_increase_ratio, samples, labels = prepare_interim_data(train_dataset)\n",
    "# print(\"train data prepared\")\n",
    "# np.savez_compressed(\"../data/interim/stock500_2023_2024_samples.npz\", samples=samples)\n",
    "# np.savez_compressed(\"../data/interim/stock500_2023_2024_labels.npz\", labels=labels)\n",
    "# np.savez_compressed(\"../data/interim/stock500_2023_2024_previous_increase_ratio.npz\", previous_increase_ratio=previous_increase_ratio)\n",
    "# np.savez_compressed(\"../data/interim/stock500_2023_2024_post_increase_ratio.npz\", post_increase_ratio=post_increase_ratio)\n",
    "\n",
    "test_dataset = TimeSeriesDataset(\n",
    "    \"../data/processed/stock500_20250101_20250430_ts.parquet\",\n",
    "    time_idx=\"DateIdx\",\n",
    "    group_ids=\"Ticker\",\n",
    "    feature_columns=[\"Open\", \"High\", \"Low\", \"Close\", \"Volume\", \"Adj Close\"],\n",
    "    na_handling=-1,\n",
    "    input_steps=30,\n",
    "    predict_steps=5,\n",
    ")\n",
    "previous_increase_ratio, post_increase_ratio, samples, labels = prepare_interim_data(test_dataset)\n",
    "print(\"test data prepared\")\n",
    "np.savez_compressed(\"../data/interim/stock500_20250101_20250430_samples.npz\", data=samples)\n",
    "np.savez_compressed(\"../data/interim/stock500_20250101_20250430_labels.npz\", data=labels)\n",
    "np.savez_compressed(\"../data/interim/stock500_20250101_20250430_previous_increase_ratio.npz\", previous_increase_ratio=previous_increase_ratio)\n",
    "np.savez_compressed(\"../data/interim/stock500_20250101_20250430_post_increase_ratio.npz\", post_increase_ratio=post_increase_ratio)\n"
   ]
  },
  {
   "cell_type": "code",
   "execution_count": null,
   "metadata": {},
   "outputs": [],
   "source": []
  }
 ],
 "metadata": {
  "kernelspec": {
   "display_name": "vecrepr",
   "language": "python",
   "name": "python3"
  },
  "language_info": {
   "codemirror_mode": {
    "name": "ipython",
    "version": 3
   },
   "file_extension": ".py",
   "mimetype": "text/x-python",
   "name": "python",
   "nbconvert_exporter": "python",
   "pygments_lexer": "ipython3",
   "version": "3.10.16"
  }
 },
 "nbformat": 4,
 "nbformat_minor": 2
}
