{
 "cells": [
  {
   "cell_type": "code",
   "execution_count": 6,
   "metadata": {},
   "outputs": [],
   "source": [
    "import numpy as np\n",
    "import pickle as pkl\n",
    "import torch\n",
    "from torch.utils.data import DataLoader\n",
    "import torch.nn as nn\n",
    "import torch.optim as optim\n",
    "\n",
    "from vectorrepr.datasets.timeseries import TimeSeriesDataset\n",
    "from vectorrepr.sampler import ConfigurableSampler\n",
    "from vectorrepr.models import TimeSeriesTransformerEmbedding\n",
    "from vectorrepr.trainer.contrastive.pairwise_train import train"
   ]
  },
  {
   "cell_type": "markdown",
   "metadata": {},
   "source": [
    "##### 加载数据集"
   ]
  },
  {
   "cell_type": "code",
   "execution_count": 7,
   "metadata": {},
   "outputs": [
    {
     "name": "stdout",
     "output_type": "stream",
     "text": [
      "261560\n",
      "Shape of sample:  (30, 6)\n",
      "Shape of label:  (5, 6)\n"
     ]
    }
   ],
   "source": [
    "dataset = TimeSeriesDataset(\n",
    "    \"../data/processed/stock500_2023_2024_ts.parquet\",\n",
    "    time_idx=\"DateIdx\",\n",
    "    group_ids=\"Ticker\",\n",
    "    feature_columns=[\"Open\", \"High\", \"Low\", \"Close\", \"Volume\", \"Adj Close\"],\n",
    "    na_handling=-1,\n",
    "    input_steps=30,\n",
    "    predict_steps=5,\n",
    ")\n",
    "print(len(dataset))\n",
    "print(\"Shape of sample: \", dataset[0][0].shape)\n",
    "print(\"Shape of label: \", dataset[0][1].shape)\n",
    "sampled_candidates = pkl.load(open(\"../data/processed/stock500_2023_2024_sampled_candidates_v2.pkl\", 'rb'))\n",
    "anchors = [x[0] for x in sampled_candidates]\n",
    "candidates = [x[1] for x in sampled_candidates]\n",
    "scores = [x[2] for x in sampled_candidates]\n",
    "sampler = ConfigurableSampler(\n",
    "    dataset, anchors, candidates, scores\n",
    ")\n",
    "\n",
    "loader = DataLoader(sampler, batch_size=2, shuffle=True)"
   ]
  },
  {
   "cell_type": "code",
   "execution_count": 10,
   "metadata": {},
   "outputs": [
    {
     "name": "stdout",
     "output_type": "stream",
     "text": [
      "torch.Size([2, 6])\n",
      "torch.Size([2, 6])\n",
      "torch.Size([2])\n"
     ]
    }
   ],
   "source": [
    "for i, (anchor_sample, candidate_sample, score) in enumerate(loader):\n",
    "    print(anchor_sample.shape)\n",
    "    print(candidate_sample.shape)\n",
    "    print(score.shape)\n",
    "    break\n",
    "# 初始化模型、损失函数和优化器\n",
    "# device = torch.device(\"cuda\" if torch.cuda.is_available() else \"cpu\")\n",
    "# model = TimeSeriesTransformerEmbedding(6, 512, 8, 6).to(device)\n",
    "# criterion = nn.MSELoss(reduction=\"none\")\n",
    "# optimizer = optim.Adam(model.parameters(), lr=0.0001)\n",
    "# train(loader, model, criterion, epochs=10, learning_rate=0.0001)"
   ]
  },
  {
   "cell_type": "code",
   "execution_count": null,
   "metadata": {},
   "outputs": [],
   "source": []
  }
 ],
 "metadata": {
  "kernelspec": {
   "display_name": "vecrepr",
   "language": "python",
   "name": "python3"
  },
  "language_info": {
   "codemirror_mode": {
    "name": "ipython",
    "version": 3
   },
   "file_extension": ".py",
   "mimetype": "text/x-python",
   "name": "python",
   "nbconvert_exporter": "python",
   "pygments_lexer": "ipython3",
   "version": "3.10.16"
  }
 },
 "nbformat": 4,
 "nbformat_minor": 2
}
