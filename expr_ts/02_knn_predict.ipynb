{
 "cells": [
  {
   "cell_type": "code",
   "execution_count": 2,
   "metadata": {},
   "outputs": [
    {
     "name": "stderr",
     "output_type": "stream",
     "text": [
      "\u001b[32m2025-05-13 08:25:23.465\u001b[0m | \u001b[1mINFO    \u001b[0m | \u001b[36mvectorrepr.config\u001b[0m:\u001b[36m<module>\u001b[0m:\u001b[36m11\u001b[0m - \u001b[1mPROJ_ROOT path is: /Users/ytqiang/workspace/vectorrepr\u001b[0m\n"
     ]
    }
   ],
   "source": [
    "from datetime import timedelta, datetime\n",
    "import pandas as pd\n",
    "import numpy as np\n",
    "from sklearn.neighbors import NearestNeighbors\n",
    "from dtaidistance.dtw import distance_fast\n",
    "from joblib import Parallel, delayed\n",
    "\n",
    "from data_utils import prepare_formated_data\n",
    "from vectorrepr.datasets.timeseries import TimeSeriesDataset\n"
   ]
  },
  {
   "cell_type": "code",
   "execution_count": 3,
   "metadata": {},
   "outputs": [
    {
     "name": "stdout",
     "output_type": "stream",
     "text": [
      "Shape of train_previous_increase_ratio:  (108998, 30)\n",
      "Shape of train_post_increase_ratio:  (108998, 5)\n",
      "Number of positive samples in train data:  17986\n"
     ]
    }
   ],
   "source": [
    "train_previous_increase_ratio = np.load(\"../data/interim/stock500_2023_2024_previous_increase_ratio.npz\")[\"previous_increase_ratio\"]\n",
    "train_post_increase_ratio = np.load(\"../data/interim/stock500_2023_2024_post_increase_ratio.npz\")[\"post_increase_ratio\"]\n",
    "valid_train_samples = (np.min(train_previous_increase_ratio, axis=1) > 0) & (np.min(train_post_increase_ratio, axis=1) > 0)\n",
    "train_previous_increase_ratio = train_previous_increase_ratio[valid_train_samples]\n",
    "train_post_increase_ratio = train_post_increase_ratio[valid_train_samples]\n",
    "# 数据标签\n",
    "train_scores = np.max(train_post_increase_ratio, axis=1)\n",
    "train_labels = np.max(train_post_increase_ratio, axis=1) >= 1.05\n",
    "print(\"Shape of train_previous_increase_ratio: \", train_previous_increase_ratio.shape)\n",
    "print(\"Shape of train_post_increase_ratio: \", train_post_increase_ratio.shape)\n",
    "print(\"Number of positive samples in train data: \", train_labels.sum())\n",
    "# 构建NearestNeighbors\n",
    "regressor = NearestNeighbors(n_neighbors=100, metric=f\"cosine\")\n",
    "regressor.fit(train_previous_increase_ratio)\n",
    "\n",
    "selected_train_indices = np.random.choice(train_previous_increase_ratio.shape[0], 100000, replace=False)\n",
    "train_previous_increase_ratio2 = train_previous_increase_ratio[selected_train_indices]\n",
    "train_scores2 = train_scores[selected_train_indices]\n",
    "train_labels2 = train_labels >= 1.05"
   ]
  },
  {
   "cell_type": "code",
   "execution_count": 17,
   "metadata": {},
   "outputs": [
    {
     "name": "stdout",
     "output_type": "stream",
     "text": [
      "\u001b[32m2025-05-15 08:07:32.024\u001b[0m | \u001b[1mINFO    \u001b[0m | \u001b[36mdata_utils\u001b[0m:\u001b[36mprepare_formated_data\u001b[0m:\u001b[36m24\u001b[0m - \u001b[1mData prepared: Data shape: (21126, 9)\u001b[0m\n",
      "today : 2025-05-14 00:00:00 start_date: 2025-03-15 lenght of data: 21126\n"
     ]
    }
   ],
   "source": [
    "today_date = datetime.strptime(\"2025-05-14\", \"%Y-%m-%d\")\n",
    "start_date = (today_date - timedelta(days=60)).strftime(\"%Y-%m-%d\")\n",
    "df = prepare_formated_data(start_date=start_date, end_date=today_date.strftime(\"%Y-%m-%d\"), stock_datapath=\"../data/external/stock.parquet.gz\")\n",
    "print(\"today :\", today_date, \"start_date:\", start_date, \"lenght of data:\", len(df))\n",
    "predict_dataset = TimeSeriesDataset(\n",
    "    df,\n",
    "    time_idx=\"DateIdx\",\n",
    "    group_ids=\"Ticker\",\n",
    "    feature_columns=[\"Open\", \"High\", \"Low\", \"Close\", \"Volume\", \"Adj Close\"],\n",
    "    na_handling=-1,\n",
    "    input_steps=30,\n",
    "    predict_steps=0,\n",
    "    return_group_time=True\n",
    ")"
   ]
  },
  {
   "cell_type": "code",
   "execution_count": 18,
   "metadata": {},
   "outputs": [],
   "source": [
    "def selected_tickers(predictions, tickers, features, threshold):\n",
    "    selected_indices = np.where(predictions > threshold)\n",
    "    predictions = predictions[selected_indices]\n",
    "    tickers = tickers[selected_indices]\n",
    "    features = features[selected_indices]\n",
    "\n",
    "    sorted_index = np.argsort(predictions)[::-1]\n",
    "    for idx in sorted_index:\n",
    "        print(tickers[idx])\n",
    "        print(features[idx])\n",
    "        print(predictions[idx])"
   ]
  },
  {
   "cell_type": "code",
   "execution_count": 19,
   "metadata": {},
   "outputs": [],
   "source": [
    "tickers = []\n",
    "features = []\n",
    "knncosine_predictions = []\n",
    "dtw_predictions = []\n",
    "for i in range(len(predict_dataset)):\n",
    "    sample, target, group, time = predict_dataset[i]\n",
    "    if time ==  (today_date - datetime.strptime(\"2023-01-01\", \"%Y-%m-%d\")).days:\n",
    "        previous_increase_ratio = sample[:, 3]/sample[0, 3:4]\n",
    "        knncosine_neighbors = regressor.kneighbors(previous_increase_ratio.reshape(1, -1), n_neighbors=50,return_distance=False)\n",
    "        knncosine_median_score = np.median(train_scores[knncosine_neighbors])\n",
    "        knncosine_predictions.append(knncosine_median_score)\n",
    "\n",
    "        distances = Parallel(n_jobs=-1)(\n",
    "            delayed(distance_fast)(previous_increase_ratio, y) for y in train_previous_increase_ratio2\n",
    "        )\n",
    "        # 获取最近的100个样本索引\n",
    "        dtw_neighbors = np.argsort(distances)[:100]\n",
    "        dtw_predictions.append(np.median(train_scores2[dtw_neighbors]))\n",
    "\n",
    "        tickers.append(group)\n",
    "        features.append(previous_increase_ratio)\n"
   ]
  },
  {
   "cell_type": "code",
   "execution_count": 20,
   "metadata": {},
   "outputs": [
    {
     "name": "stdout",
     "output_type": "stream",
     "text": [
      "UNH\n",
      "[1.         1.03295105 1.00353589 1.00286697 1.0571101  1.10569569\n",
      " 1.13608565 1.14577591 1.12205654 1.11542434 1.11819565 0.8679472\n",
      " 0.81293956 0.8164755  0.81796633 0.81087536 0.80015291 0.80275227\n",
      " 0.78216743 0.78639142 0.76582566 0.7643731  0.7737194  0.75403288\n",
      " 0.74743882 0.73690745 0.72752295 0.72391053 0.59514526 0.58870413]\n",
      "1.0596205450045073\n"
     ]
    }
   ],
   "source": [
    "selected_tickers(np.array(knncosine_predictions), np.array(tickers), np.array(features), 1.058)"
   ]
  },
  {
   "cell_type": "code",
   "execution_count": 21,
   "metadata": {},
   "outputs": [
    {
     "name": "stdout",
     "output_type": "stream",
     "text": [
      "UNH\n",
      "[1.         1.03295105 1.00353589 1.00286697 1.0571101  1.10569569\n",
      " 1.13608565 1.14577591 1.12205654 1.11542434 1.11819565 0.8679472\n",
      " 0.81293956 0.8164755  0.81796633 0.81087536 0.80015291 0.80275227\n",
      " 0.78216743 0.78639142 0.76582566 0.7643731  0.7737194  0.75403288\n",
      " 0.74743882 0.73690745 0.72752295 0.72391053 0.59514526 0.58870413]\n",
      "1.059756095266728\n",
      "LLY\n",
      "[1.         0.9643984  0.90221462 0.88451762 0.88758527 0.92115818\n",
      " 0.8810711  0.895126   0.92194031 0.92539906 0.89816926 1.02656993\n",
      " 0.99975563 1.01139059 1.01368827 1.05073209 1.08105401 1.07219331\n",
      " 1.08186068 1.09866545 0.97052138 1.00659972 1.00395988 0.94732471\n",
      " 0.94928014 0.91839608 0.89776592 0.92343139 0.91180859 0.87453255]\n",
      "1.0581989341358868\n",
      "PLTR\n",
      "[1.         0.95597486 0.84631223 0.89010862 0.88416241 1.05214414\n",
      " 1.01303601 1.01257869 1.05911957 1.12521446 1.06014868 1.07238424\n",
      " 1.03830768 1.0747856  1.1528874  1.23247573 1.28965126 1.31103494\n",
      " 1.32738715 1.354374   1.3287593  1.42115498 1.41532305 1.24482567\n",
      " 1.26335057 1.36249292 1.34133799 1.35460267 1.46483717 1.48862204]\n",
      "1.0573915205469406\n"
     ]
    }
   ],
   "source": [
    "selected_tickers(np.array(dtw_predictions), np.array(tickers), np.array(features), 1.057)"
   ]
  },
  {
   "cell_type": "code",
   "execution_count": null,
   "metadata": {},
   "outputs": [],
   "source": []
  }
 ],
 "metadata": {
  "kernelspec": {
   "display_name": "vecrepr",
   "language": "python",
   "name": "python3"
  },
  "language_info": {
   "codemirror_mode": {
    "name": "ipython",
    "version": 3
   },
   "file_extension": ".py",
   "mimetype": "text/x-python",
   "name": "python",
   "nbconvert_exporter": "python",
   "pygments_lexer": "ipython3",
   "version": "3.10.16"
  }
 },
 "nbformat": 4,
 "nbformat_minor": 2
}
