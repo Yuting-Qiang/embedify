{
 "cells": [
  {
   "cell_type": "code",
   "execution_count": 1,
   "metadata": {},
   "outputs": [
    {
     "name": "stderr",
     "output_type": "stream",
     "text": [
      "\u001b[32m2025-05-10 17:27:22.336\u001b[0m | \u001b[1mINFO    \u001b[0m | \u001b[36mvectorrepr.config\u001b[0m:\u001b[36m<module>\u001b[0m:\u001b[36m11\u001b[0m - \u001b[1mPROJ_ROOT path is: /Users/ytqiang/workspace/vectorrepr\u001b[0m\n"
     ]
    }
   ],
   "source": [
    "from datetime import timedelta, datetime\n",
    "import pandas as pd\n",
    "import numpy as np\n",
    "from sklearn.neighbors import NearestNeighbors\n",
    "from dtaidistance.dtw import distance_fast\n",
    "from joblib import Parallel, delayed\n",
    "\n",
    "from data_utils import prepare_formated_data\n",
    "from vectorrepr.datasets.timeseries import TimeSeriesDataset\n"
   ]
  },
  {
   "cell_type": "code",
   "execution_count": 10,
   "metadata": {},
   "outputs": [
    {
     "name": "stdout",
     "output_type": "stream",
     "text": [
      "Shape of train_previous_increase_ratio:  (108998, 30)\n",
      "Shape of train_post_increase_ratio:  (108998, 5)\n",
      "Number of positive samples in train data:  17986\n"
     ]
    }
   ],
   "source": [
    "train_previous_increase_ratio = np.load(\"../data/interim/stock500_2023_2024_previous_increase_ratio.npz\")[\"previous_increase_ratio\"]\n",
    "train_post_increase_ratio = np.load(\"../data/interim/stock500_2023_2024_post_increase_ratio.npz\")[\"post_increase_ratio\"]\n",
    "valid_train_samples = (np.min(train_previous_increase_ratio, axis=1) > 0) & (np.min(train_post_increase_ratio, axis=1) > 0)\n",
    "train_previous_increase_ratio = train_previous_increase_ratio[valid_train_samples]\n",
    "train_post_increase_ratio = train_post_increase_ratio[valid_train_samples]\n",
    "# 数据标签\n",
    "train_scores = np.max(train_post_increase_ratio, axis=1)\n",
    "train_labels = np.max(train_post_increase_ratio, axis=1) >= 1.05\n",
    "print(\"Shape of train_previous_increase_ratio: \", train_previous_increase_ratio.shape)\n",
    "print(\"Shape of train_post_increase_ratio: \", train_post_increase_ratio.shape)\n",
    "print(\"Number of positive samples in train data: \", train_labels.sum())\n",
    "# 构建NearestNeighbors\n",
    "regressor = NearestNeighbors(n_neighbors=100, metric=f\"cosine\")\n",
    "regressor.fit(train_previous_increase_ratio)\n",
    "\n",
    "selected_train_indices = np.random.choice(train_previous_increase_ratio.shape[0], 100000, replace=False)\n",
    "train_previous_increase_ratio2 = train_previous_increase_ratio[selected_train_indices]\n",
    "train_scores2 = train_scores[selected_train_indices]\n",
    "train_labels2 = train_labels >= 1.05"
   ]
  },
  {
   "cell_type": "code",
   "execution_count": 42,
   "metadata": {},
   "outputs": [
    {
     "name": "stdout",
     "output_type": "stream",
     "text": [
      "\u001b[32m2025-05-11 11:27:23.116\u001b[0m | \u001b[1mINFO    \u001b[0m | \u001b[36mdata_utils\u001b[0m:\u001b[36mprepare_formated_data\u001b[0m:\u001b[36m24\u001b[0m - \u001b[1mData prepared: Data shape: (21629, 9)\u001b[0m\n",
      "today : 2025-05-08 00:00:00 start_date: 2025-03-09 lenght of data: 21629\n"
     ]
    }
   ],
   "source": [
    "today_date = datetime.strptime(\"2025-05-08\", \"%Y-%m-%d\")\n",
    "start_date = (today_date - timedelta(days=60)).strftime(\"%Y-%m-%d\")\n",
    "df = prepare_formated_data(start_date=start_date, end_date=today_date.strftime(\"%Y-%m-%d\"), stock_datapath=\"../data/external/stock.parquet.gz\")\n",
    "print(\"today :\", today_date, \"start_date:\", start_date, \"lenght of data:\", len(df))\n",
    "predict_dataset = TimeSeriesDataset(\n",
    "    df,\n",
    "    time_idx=\"DateIdx\",\n",
    "    group_ids=\"Ticker\",\n",
    "    feature_columns=[\"Open\", \"High\", \"Low\", \"Close\", \"Volume\", \"Adj Close\"],\n",
    "    na_handling=-1,\n",
    "    input_steps=30,\n",
    "    predict_steps=0,\n",
    "    return_group_time=True\n",
    ")"
   ]
  },
  {
   "cell_type": "code",
   "execution_count": 43,
   "metadata": {},
   "outputs": [],
   "source": [
    "def selected_tickers(predictions, tickers, features, threshold):\n",
    "    selected_indices = np.where(predictions > threshold)\n",
    "    predictions = predictions[selected_indices]\n",
    "    tickers = tickers[selected_indices]\n",
    "    features = features[selected_indices]\n",
    "\n",
    "    sorted_index = np.argsort(predictions)[::-1]\n",
    "    for idx in sorted_index:\n",
    "        print(tickers[idx])\n",
    "        print(features[idx])\n",
    "        print(predictions[idx])"
   ]
  },
  {
   "cell_type": "code",
   "execution_count": 44,
   "metadata": {},
   "outputs": [],
   "source": [
    "tickers = []\n",
    "features = []\n",
    "knncosine_predictions = []\n",
    "dtw_predictions = []\n",
    "for i in range(len(predict_dataset)):\n",
    "    sample, target, group, time = predict_dataset[i]\n",
    "    if time ==  (today_date - datetime.strptime(\"2023-01-01\", \"%Y-%m-%d\")).days:\n",
    "        previous_increase_ratio = sample[:, 3]/sample[0, 3:4]\n",
    "        knncosine_neighbors = regressor.kneighbors(previous_increase_ratio.reshape(1, -1), n_neighbors=50,return_distance=False)\n",
    "        knncosine_median_score = np.median(train_scores[knncosine_neighbors])\n",
    "        knncosine_predictions.append(knncosine_median_score)\n",
    "\n",
    "        # distances = Parallel(n_jobs=-1)(\n",
    "        #     delayed(distance_fast)(previous_increase_ratio, y) for y in train_previous_increase_ratio2\n",
    "        # )\n",
    "        # # 获取最近的100个样本索引\n",
    "        # dtw_neighbors = np.argsort(distances)[:100]\n",
    "        # dtw_predictions.append(np.median(train_scores2[dtw_neighbors]))\n",
    "\n",
    "        tickers.append(group)\n",
    "        features.append(previous_increase_ratio)\n"
   ]
  },
  {
   "cell_type": "code",
   "execution_count": 45,
   "metadata": {},
   "outputs": [
    {
     "name": "stdout",
     "output_type": "stream",
     "text": [
      "WDC\n",
      "[  1.         -40.61999893 -40.43000031 -40.88999939 -41.77999878\n",
      " -34.15000153 -30.54000092 -31.15999985 -31.54999924 -36.29999924\n",
      " -34.86999893 -34.40000153 -35.81999969 -35.93000031 -35.61999893\n",
      " -36.50999832 -35.95999908 -36.68000031 -37.70000076 -40.16999817\n",
      " -40.77999878 -40.90999985 -40.61999893 -43.86000061 -43.95000076\n",
      " -44.68999863 -45.02999878 -44.29000092 -44.29999924 -44.29999924]\n",
      "1.1005000370243696\n"
     ]
    }
   ],
   "source": [
    "selected_tickers(np.array(knncosine_predictions), np.array(tickers), np.array(features), 1.058)"
   ]
  },
  {
   "cell_type": "code",
   "execution_count": 46,
   "metadata": {},
   "outputs": [],
   "source": [
    "selected_tickers(np.array(dtw_predictions), np.array(tickers), np.array(features), 1.06)"
   ]
  },
  {
   "cell_type": "code",
   "execution_count": null,
   "metadata": {},
   "outputs": [],
   "source": []
  }
 ],
 "metadata": {
  "kernelspec": {
   "display_name": "vecrepr",
   "language": "python",
   "name": "python3"
  },
  "language_info": {
   "codemirror_mode": {
    "name": "ipython",
    "version": 3
   },
   "file_extension": ".py",
   "mimetype": "text/x-python",
   "name": "python",
   "nbconvert_exporter": "python",
   "pygments_lexer": "ipython3",
   "version": "3.10.16"
  }
 },
 "nbformat": 4,
 "nbformat_minor": 2
}
